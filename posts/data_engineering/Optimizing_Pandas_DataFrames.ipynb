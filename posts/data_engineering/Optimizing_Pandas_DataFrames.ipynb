{
  "cells": [
    {
      "cell_type": "markdown",
      "metadata": {},
      "source": [
        "---\n",
        "categories:\n",
        "- data science\n",
        "colab: <a href=\"https://colab.research.google.com/drive/1wQUX14gFvIo-v4A7kzI22F_RS_Sg9Ud-?usp=sharing\"><img src=\"images/colab.svg\" alt=\"Open In Colab\"></a>\n",
        "date: '2022-12-28'\n",
        "image: /posts/data_engineering/pandas.png\n",
        "title: Optimizing Pandas DataFrames\n",
        "subtitle: Filter first!\n",
        "---"
      ]
    },
    {
      "cell_type": "markdown",
      "metadata": {
        "id": "vCgSYcct4kQN"
      },
      "source": [
        "# 🏁 🏁 **Optimizing Pandas DataFrames** 🏁 🏁\n",
        "*Created by:* ⭐ **Claudia López** ⭐\n",
        "\n",
        "\n",
        "When chaining multiple operations it is worthwhile to think about which operations to execute first in order to optimize the sentence. Filter steps should be executed as early as possible\n",
        "\n",
        "It is always recommended to `filter` the data where the data lives, for example, in other words in BigQuery, but if this is not the case, you should filter your dataframe as soon as possible to only work with the data you need, thus optimizing your operations."
      ]
    },
    {
      "cell_type": "markdown",
      "metadata": {
        "id": "-cBEmdgK2SYC"
      },
      "source": [
        "\n",
        "## ⚙️ **Precondition: Getting Data**"
      ]
    },
    {
      "cell_type": "code",
      "execution_count": 41,
      "metadata": {
        "colab": {
          "base_uri": "https://localhost:8080/",
          "height": 458
        },
        "id": "9oU117qRSfL0",
        "outputId": "411acac3-bbaa-4e51-fc7a-853a64e7fa13"
      },
      "outputs": [
        {
          "data": {
            "text/html": [
              "\n",
              "  <div id=\"df-de8c83ae-6235-403b-b809-f3395aa6e891\" class=\"colab-df-container\">\n",
              "    <div>\n",
              "<style scoped>\n",
              "    .dataframe tbody tr th:only-of-type {\n",
              "        vertical-align: middle;\n",
              "    }\n",
              "\n",
              "    .dataframe tbody tr th {\n",
              "        vertical-align: top;\n",
              "    }\n",
              "\n",
              "    .dataframe thead th {\n",
              "        text-align: right;\n",
              "    }\n",
              "</style>\n",
              "<table border=\"1\" class=\"dataframe\">\n",
              "  <thead>\n",
              "    <tr style=\"text-align: right;\">\n",
              "      <th></th>\n",
              "      <th>PassengerId</th>\n",
              "      <th>Pclass</th>\n",
              "      <th>Name</th>\n",
              "      <th>Sex</th>\n",
              "      <th>Age</th>\n",
              "      <th>SibSp</th>\n",
              "      <th>Parch</th>\n",
              "      <th>Ticket</th>\n",
              "      <th>Fare</th>\n",
              "      <th>Cabin</th>\n",
              "      <th>Embarked</th>\n",
              "    </tr>\n",
              "  </thead>\n",
              "  <tbody>\n",
              "    <tr>\n",
              "      <th>0</th>\n",
              "      <td>892</td>\n",
              "      <td>3</td>\n",
              "      <td>Kelly, Mr. James</td>\n",
              "      <td>male</td>\n",
              "      <td>34.5</td>\n",
              "      <td>0</td>\n",
              "      <td>0</td>\n",
              "      <td>330911</td>\n",
              "      <td>7.8292</td>\n",
              "      <td>NaN</td>\n",
              "      <td>Q</td>\n",
              "    </tr>\n",
              "    <tr>\n",
              "      <th>1</th>\n",
              "      <td>893</td>\n",
              "      <td>3</td>\n",
              "      <td>Wilkes, Mrs. James (Ellen Needs)</td>\n",
              "      <td>female</td>\n",
              "      <td>47.0</td>\n",
              "      <td>1</td>\n",
              "      <td>0</td>\n",
              "      <td>363272</td>\n",
              "      <td>7.0000</td>\n",
              "      <td>NaN</td>\n",
              "      <td>S</td>\n",
              "    </tr>\n",
              "    <tr>\n",
              "      <th>2</th>\n",
              "      <td>894</td>\n",
              "      <td>2</td>\n",
              "      <td>Myles, Mr. Thomas Francis</td>\n",
              "      <td>male</td>\n",
              "      <td>62.0</td>\n",
              "      <td>0</td>\n",
              "      <td>0</td>\n",
              "      <td>240276</td>\n",
              "      <td>9.6875</td>\n",
              "      <td>NaN</td>\n",
              "      <td>Q</td>\n",
              "    </tr>\n",
              "    <tr>\n",
              "      <th>3</th>\n",
              "      <td>895</td>\n",
              "      <td>3</td>\n",
              "      <td>Wirz, Mr. Albert</td>\n",
              "      <td>male</td>\n",
              "      <td>27.0</td>\n",
              "      <td>0</td>\n",
              "      <td>0</td>\n",
              "      <td>315154</td>\n",
              "      <td>8.6625</td>\n",
              "      <td>NaN</td>\n",
              "      <td>S</td>\n",
              "    </tr>\n",
              "    <tr>\n",
              "      <th>4</th>\n",
              "      <td>896</td>\n",
              "      <td>3</td>\n",
              "      <td>Hirvonen, Mrs. Alexander (Helga E Lindqvist)</td>\n",
              "      <td>female</td>\n",
              "      <td>22.0</td>\n",
              "      <td>1</td>\n",
              "      <td>1</td>\n",
              "      <td>3101298</td>\n",
              "      <td>12.2875</td>\n",
              "      <td>NaN</td>\n",
              "      <td>S</td>\n",
              "    </tr>\n",
              "    <tr>\n",
              "      <th>...</th>\n",
              "      <td>...</td>\n",
              "      <td>...</td>\n",
              "      <td>...</td>\n",
              "      <td>...</td>\n",
              "      <td>...</td>\n",
              "      <td>...</td>\n",
              "      <td>...</td>\n",
              "      <td>...</td>\n",
              "      <td>...</td>\n",
              "      <td>...</td>\n",
              "      <td>...</td>\n",
              "    </tr>\n",
              "    <tr>\n",
              "      <th>413</th>\n",
              "      <td>1305</td>\n",
              "      <td>3</td>\n",
              "      <td>Spector, Mr. Woolf</td>\n",
              "      <td>male</td>\n",
              "      <td>NaN</td>\n",
              "      <td>0</td>\n",
              "      <td>0</td>\n",
              "      <td>A.5. 3236</td>\n",
              "      <td>8.0500</td>\n",
              "      <td>NaN</td>\n",
              "      <td>S</td>\n",
              "    </tr>\n",
              "    <tr>\n",
              "      <th>414</th>\n",
              "      <td>1306</td>\n",
              "      <td>1</td>\n",
              "      <td>Oliva y Ocana, Dona. Fermina</td>\n",
              "      <td>female</td>\n",
              "      <td>39.0</td>\n",
              "      <td>0</td>\n",
              "      <td>0</td>\n",
              "      <td>PC 17758</td>\n",
              "      <td>108.9000</td>\n",
              "      <td>C105</td>\n",
              "      <td>C</td>\n",
              "    </tr>\n",
              "    <tr>\n",
              "      <th>415</th>\n",
              "      <td>1307</td>\n",
              "      <td>3</td>\n",
              "      <td>Saether, Mr. Simon Sivertsen</td>\n",
              "      <td>male</td>\n",
              "      <td>38.5</td>\n",
              "      <td>0</td>\n",
              "      <td>0</td>\n",
              "      <td>SOTON/O.Q. 3101262</td>\n",
              "      <td>7.2500</td>\n",
              "      <td>NaN</td>\n",
              "      <td>S</td>\n",
              "    </tr>\n",
              "    <tr>\n",
              "      <th>416</th>\n",
              "      <td>1308</td>\n",
              "      <td>3</td>\n",
              "      <td>Ware, Mr. Frederick</td>\n",
              "      <td>male</td>\n",
              "      <td>NaN</td>\n",
              "      <td>0</td>\n",
              "      <td>0</td>\n",
              "      <td>359309</td>\n",
              "      <td>8.0500</td>\n",
              "      <td>NaN</td>\n",
              "      <td>S</td>\n",
              "    </tr>\n",
              "    <tr>\n",
              "      <th>417</th>\n",
              "      <td>1309</td>\n",
              "      <td>3</td>\n",
              "      <td>Peter, Master. Michael J</td>\n",
              "      <td>male</td>\n",
              "      <td>NaN</td>\n",
              "      <td>1</td>\n",
              "      <td>1</td>\n",
              "      <td>2668</td>\n",
              "      <td>22.3583</td>\n",
              "      <td>NaN</td>\n",
              "      <td>C</td>\n",
              "    </tr>\n",
              "  </tbody>\n",
              "</table>\n",
              "<p>418 rows × 11 columns</p>\n",
              "</div>\n",
              "    <div class=\"colab-df-buttons\">\n",
              "\n",
              "  <div class=\"colab-df-container\">\n",
              "    <button class=\"colab-df-convert\" onclick=\"convertToInteractive('df-de8c83ae-6235-403b-b809-f3395aa6e891')\"\n",
              "            title=\"Convert this dataframe to an interactive table.\"\n",
              "            style=\"display:none;\">\n",
              "\n",
              "  <svg xmlns=\"http://www.w3.org/2000/svg\" height=\"24px\" viewBox=\"0 -960 960 960\">\n",
              "    <path d=\"M120-120v-720h720v720H120Zm60-500h600v-160H180v160Zm220 220h160v-160H400v160Zm0 220h160v-160H400v160ZM180-400h160v-160H180v160Zm440 0h160v-160H620v160ZM180-180h160v-160H180v160Zm440 0h160v-160H620v160Z\"/>\n",
              "  </svg>\n",
              "    </button>\n",
              "\n",
              "  <style>\n",
              "    .colab-df-container {\n",
              "      display:flex;\n",
              "      gap: 12px;\n",
              "    }\n",
              "\n",
              "    .colab-df-convert {\n",
              "      background-color: #E8F0FE;\n",
              "      border: none;\n",
              "      border-radius: 50%;\n",
              "      cursor: pointer;\n",
              "      display: none;\n",
              "      fill: #1967D2;\n",
              "      height: 32px;\n",
              "      padding: 0 0 0 0;\n",
              "      width: 32px;\n",
              "    }\n",
              "\n",
              "    .colab-df-convert:hover {\n",
              "      background-color: #E2EBFA;\n",
              "      box-shadow: 0px 1px 2px rgba(60, 64, 67, 0.3), 0px 1px 3px 1px rgba(60, 64, 67, 0.15);\n",
              "      fill: #174EA6;\n",
              "    }\n",
              "\n",
              "    .colab-df-buttons div {\n",
              "      margin-bottom: 4px;\n",
              "    }\n",
              "\n",
              "    [theme=dark] .colab-df-convert {\n",
              "      background-color: #3B4455;\n",
              "      fill: #D2E3FC;\n",
              "    }\n",
              "\n",
              "    [theme=dark] .colab-df-convert:hover {\n",
              "      background-color: #434B5C;\n",
              "      box-shadow: 0px 1px 3px 1px rgba(0, 0, 0, 0.15);\n",
              "      filter: drop-shadow(0px 1px 2px rgba(0, 0, 0, 0.3));\n",
              "      fill: #FFFFFF;\n",
              "    }\n",
              "  </style>\n",
              "\n",
              "    <script>\n",
              "      const buttonEl =\n",
              "        document.querySelector('#df-de8c83ae-6235-403b-b809-f3395aa6e891 button.colab-df-convert');\n",
              "      buttonEl.style.display =\n",
              "        google.colab.kernel.accessAllowed ? 'block' : 'none';\n",
              "\n",
              "      async function convertToInteractive(key) {\n",
              "        const element = document.querySelector('#df-de8c83ae-6235-403b-b809-f3395aa6e891');\n",
              "        const dataTable =\n",
              "          await google.colab.kernel.invokeFunction('convertToInteractive',\n",
              "                                                    [key], {});\n",
              "        if (!dataTable) return;\n",
              "\n",
              "        const docLinkHtml = 'Like what you see? Visit the ' +\n",
              "          '<a target=\"_blank\" href=https://colab.research.google.com/notebooks/data_table.ipynb>data table notebook</a>'\n",
              "          + ' to learn more about interactive tables.';\n",
              "        element.innerHTML = '';\n",
              "        dataTable['output_type'] = 'display_data';\n",
              "        await google.colab.output.renderOutput(dataTable, element);\n",
              "        const docLink = document.createElement('div');\n",
              "        docLink.innerHTML = docLinkHtml;\n",
              "        element.appendChild(docLink);\n",
              "      }\n",
              "    </script>\n",
              "  </div>\n",
              "\n",
              "\n",
              "<div id=\"df-08527355-ebcb-4fc0-880e-1e9c8a0da58b\">\n",
              "  <button class=\"colab-df-quickchart\" onclick=\"quickchart('df-08527355-ebcb-4fc0-880e-1e9c8a0da58b')\"\n",
              "            title=\"Suggest charts\"\n",
              "            style=\"display:none;\">\n",
              "\n",
              "<svg xmlns=\"http://www.w3.org/2000/svg\" height=\"24px\"viewBox=\"0 0 24 24\"\n",
              "     width=\"24px\">\n",
              "    <g>\n",
              "        <path d=\"M19 3H5c-1.1 0-2 .9-2 2v14c0 1.1.9 2 2 2h14c1.1 0 2-.9 2-2V5c0-1.1-.9-2-2-2zM9 17H7v-7h2v7zm4 0h-2V7h2v10zm4 0h-2v-4h2v4z\"/>\n",
              "    </g>\n",
              "</svg>\n",
              "  </button>\n",
              "\n",
              "<style>\n",
              "  .colab-df-quickchart {\n",
              "      --bg-color: #E8F0FE;\n",
              "      --fill-color: #1967D2;\n",
              "      --hover-bg-color: #E2EBFA;\n",
              "      --hover-fill-color: #174EA6;\n",
              "      --disabled-fill-color: #AAA;\n",
              "      --disabled-bg-color: #DDD;\n",
              "  }\n",
              "\n",
              "  [theme=dark] .colab-df-quickchart {\n",
              "      --bg-color: #3B4455;\n",
              "      --fill-color: #D2E3FC;\n",
              "      --hover-bg-color: #434B5C;\n",
              "      --hover-fill-color: #FFFFFF;\n",
              "      --disabled-bg-color: #3B4455;\n",
              "      --disabled-fill-color: #666;\n",
              "  }\n",
              "\n",
              "  .colab-df-quickchart {\n",
              "    background-color: var(--bg-color);\n",
              "    border: none;\n",
              "    border-radius: 50%;\n",
              "    cursor: pointer;\n",
              "    display: none;\n",
              "    fill: var(--fill-color);\n",
              "    height: 32px;\n",
              "    padding: 0;\n",
              "    width: 32px;\n",
              "  }\n",
              "\n",
              "  .colab-df-quickchart:hover {\n",
              "    background-color: var(--hover-bg-color);\n",
              "    box-shadow: 0 1px 2px rgba(60, 64, 67, 0.3), 0 1px 3px 1px rgba(60, 64, 67, 0.15);\n",
              "    fill: var(--button-hover-fill-color);\n",
              "  }\n",
              "\n",
              "  .colab-df-quickchart-complete:disabled,\n",
              "  .colab-df-quickchart-complete:disabled:hover {\n",
              "    background-color: var(--disabled-bg-color);\n",
              "    fill: var(--disabled-fill-color);\n",
              "    box-shadow: none;\n",
              "  }\n",
              "\n",
              "  .colab-df-spinner {\n",
              "    border: 2px solid var(--fill-color);\n",
              "    border-color: transparent;\n",
              "    border-bottom-color: var(--fill-color);\n",
              "    animation:\n",
              "      spin 1s steps(1) infinite;\n",
              "  }\n",
              "\n",
              "  @keyframes spin {\n",
              "    0% {\n",
              "      border-color: transparent;\n",
              "      border-bottom-color: var(--fill-color);\n",
              "      border-left-color: var(--fill-color);\n",
              "    }\n",
              "    20% {\n",
              "      border-color: transparent;\n",
              "      border-left-color: var(--fill-color);\n",
              "      border-top-color: var(--fill-color);\n",
              "    }\n",
              "    30% {\n",
              "      border-color: transparent;\n",
              "      border-left-color: var(--fill-color);\n",
              "      border-top-color: var(--fill-color);\n",
              "      border-right-color: var(--fill-color);\n",
              "    }\n",
              "    40% {\n",
              "      border-color: transparent;\n",
              "      border-right-color: var(--fill-color);\n",
              "      border-top-color: var(--fill-color);\n",
              "    }\n",
              "    60% {\n",
              "      border-color: transparent;\n",
              "      border-right-color: var(--fill-color);\n",
              "    }\n",
              "    80% {\n",
              "      border-color: transparent;\n",
              "      border-right-color: var(--fill-color);\n",
              "      border-bottom-color: var(--fill-color);\n",
              "    }\n",
              "    90% {\n",
              "      border-color: transparent;\n",
              "      border-bottom-color: var(--fill-color);\n",
              "    }\n",
              "  }\n",
              "</style>\n",
              "\n",
              "  <script>\n",
              "    async function quickchart(key) {\n",
              "      const quickchartButtonEl =\n",
              "        document.querySelector('#' + key + ' button');\n",
              "      quickchartButtonEl.disabled = true;  // To prevent multiple clicks.\n",
              "      quickchartButtonEl.classList.add('colab-df-spinner');\n",
              "      try {\n",
              "        const charts = await google.colab.kernel.invokeFunction(\n",
              "            'suggestCharts', [key], {});\n",
              "      } catch (error) {\n",
              "        console.error('Error during call to suggestCharts:', error);\n",
              "      }\n",
              "      quickchartButtonEl.classList.remove('colab-df-spinner');\n",
              "      quickchartButtonEl.classList.add('colab-df-quickchart-complete');\n",
              "    }\n",
              "    (() => {\n",
              "      let quickchartButtonEl =\n",
              "        document.querySelector('#df-08527355-ebcb-4fc0-880e-1e9c8a0da58b button');\n",
              "      quickchartButtonEl.style.display =\n",
              "        google.colab.kernel.accessAllowed ? 'block' : 'none';\n",
              "    })();\n",
              "  </script>\n",
              "</div>\n",
              "\n",
              "  <div id=\"id_acb62dd6-95fe-4986-bca9-379261492b64\">\n",
              "    <style>\n",
              "      .colab-df-generate {\n",
              "        background-color: #E8F0FE;\n",
              "        border: none;\n",
              "        border-radius: 50%;\n",
              "        cursor: pointer;\n",
              "        display: none;\n",
              "        fill: #1967D2;\n",
              "        height: 32px;\n",
              "        padding: 0 0 0 0;\n",
              "        width: 32px;\n",
              "      }\n",
              "\n",
              "      .colab-df-generate:hover {\n",
              "        background-color: #E2EBFA;\n",
              "        box-shadow: 0px 1px 2px rgba(60, 64, 67, 0.3), 0px 1px 3px 1px rgba(60, 64, 67, 0.15);\n",
              "        fill: #174EA6;\n",
              "      }\n",
              "\n",
              "      [theme=dark] .colab-df-generate {\n",
              "        background-color: #3B4455;\n",
              "        fill: #D2E3FC;\n",
              "      }\n",
              "\n",
              "      [theme=dark] .colab-df-generate:hover {\n",
              "        background-color: #434B5C;\n",
              "        box-shadow: 0px 1px 3px 1px rgba(0, 0, 0, 0.15);\n",
              "        filter: drop-shadow(0px 1px 2px rgba(0, 0, 0, 0.3));\n",
              "        fill: #FFFFFF;\n",
              "      }\n",
              "    </style>\n",
              "    <button class=\"colab-df-generate\" onclick=\"generateWithVariable('titanic_data')\"\n",
              "            title=\"Generate code using this dataframe.\"\n",
              "            style=\"display:none;\">\n",
              "\n",
              "  <svg xmlns=\"http://www.w3.org/2000/svg\" height=\"24px\"viewBox=\"0 0 24 24\"\n",
              "       width=\"24px\">\n",
              "    <path d=\"M7,19H8.4L18.45,9,17,7.55,7,17.6ZM5,21V16.75L18.45,3.32a2,2,0,0,1,2.83,0l1.4,1.43a1.91,1.91,0,0,1,.58,1.4,1.91,1.91,0,0,1-.58,1.4L9.25,21ZM18.45,9,17,7.55Zm-12,3A5.31,5.31,0,0,0,4.9,8.1,5.31,5.31,0,0,0,1,6.5,5.31,5.31,0,0,0,4.9,4.9,5.31,5.31,0,0,0,6.5,1,5.31,5.31,0,0,0,8.1,4.9,5.31,5.31,0,0,0,12,6.5,5.46,5.46,0,0,0,6.5,12Z\"/>\n",
              "  </svg>\n",
              "    </button>\n",
              "    <script>\n",
              "      (() => {\n",
              "      const buttonEl =\n",
              "        document.querySelector('#id_acb62dd6-95fe-4986-bca9-379261492b64 button.colab-df-generate');\n",
              "      buttonEl.style.display =\n",
              "        google.colab.kernel.accessAllowed ? 'block' : 'none';\n",
              "\n",
              "      buttonEl.onclick = () => {\n",
              "        google.colab.notebook.generateWithVariable('titanic_data');\n",
              "      }\n",
              "      })();\n",
              "    </script>\n",
              "  </div>\n",
              "\n",
              "    </div>\n",
              "  </div>\n"
            ],
            "text/plain": [
              "     PassengerId  Pclass                                          Name  \\\n",
              "0            892       3                              Kelly, Mr. James   \n",
              "1            893       3              Wilkes, Mrs. James (Ellen Needs)   \n",
              "2            894       2                     Myles, Mr. Thomas Francis   \n",
              "3            895       3                              Wirz, Mr. Albert   \n",
              "4            896       3  Hirvonen, Mrs. Alexander (Helga E Lindqvist)   \n",
              "..           ...     ...                                           ...   \n",
              "413         1305       3                            Spector, Mr. Woolf   \n",
              "414         1306       1                  Oliva y Ocana, Dona. Fermina   \n",
              "415         1307       3                  Saether, Mr. Simon Sivertsen   \n",
              "416         1308       3                           Ware, Mr. Frederick   \n",
              "417         1309       3                      Peter, Master. Michael J   \n",
              "\n",
              "        Sex   Age  SibSp  Parch              Ticket      Fare Cabin Embarked  \n",
              "0      male  34.5      0      0              330911    7.8292   NaN        Q  \n",
              "1    female  47.0      1      0              363272    7.0000   NaN        S  \n",
              "2      male  62.0      0      0              240276    9.6875   NaN        Q  \n",
              "3      male  27.0      0      0              315154    8.6625   NaN        S  \n",
              "4    female  22.0      1      1             3101298   12.2875   NaN        S  \n",
              "..      ...   ...    ...    ...                 ...       ...   ...      ...  \n",
              "413    male   NaN      0      0           A.5. 3236    8.0500   NaN        S  \n",
              "414  female  39.0      0      0            PC 17758  108.9000  C105        C  \n",
              "415    male  38.5      0      0  SOTON/O.Q. 3101262    7.2500   NaN        S  \n",
              "416    male   NaN      0      0              359309    8.0500   NaN        S  \n",
              "417    male   NaN      1      1                2668   22.3583   NaN        C  \n",
              "\n",
              "[418 rows x 11 columns]"
            ]
          },
          "execution_count": 41,
          "metadata": {},
          "output_type": "execute_result"
        }
      ],
      "source": [
        "import pandas as pd\n",
        "import numpy as np\n",
        "import time\n",
        "\n",
        "titanic_data = pd.read_csv('test.csv')\n",
        "passenger_id = 895\n",
        "titanic_data\n"
      ]
    },
    {
      "cell_type": "markdown",
      "metadata": {
        "id": "yUA8qwkyKpq7"
      },
      "source": [
        "## 🔧 **Filtering Methods**\n",
        "\n",
        "Pandas provides a lot of methods for data selection, below you can review some methods."
      ]
    },
    {
      "cell_type": "markdown",
      "metadata": {
        "id": "6CYIyCcZ5mVA"
      },
      "source": [
        "### 1. Index []\n",
        "Indexing is the easier way of filtering the data where the condition expression creates a Boolean series, and we can use it to filter the DataFrame.\n",
        "\n"
      ]
    },
    {
      "cell_type": "code",
      "execution_count": 42,
      "metadata": {
        "colab": {
          "base_uri": "https://localhost:8080/"
        },
        "id": "ch7u-qGP557J",
        "outputId": "974665df-a074-4386-d95e-b8aa7242ead3"
      },
      "outputs": [
        {
          "name": "stdout",
          "output_type": "stream",
          "text": [
            "time : 1.646280288696289 ms\n"
          ]
        }
      ],
      "source": [
        "start = time.time()\n",
        "\n",
        "#Filter using []\n",
        "passengers_by_ticket_index = titanic_data[(titanic_data['PassengerId'] == passenger_id)]\n",
        "\n",
        "# Duration time\n",
        "print(f\"time : {(time.time() - start) * 1000} ms\")"
      ]
    },
    {
      "cell_type": "markdown",
      "metadata": {
        "id": "Fwa0suG_7B1D"
      },
      "source": [
        "### 2. query()\n",
        "This is a much cleaner and easier way to filter rows. Also, query() supports much more complicated conditional expressions and is faster than using []."
      ]
    },
    {
      "cell_type": "code",
      "execution_count": 43,
      "metadata": {
        "colab": {
          "base_uri": "https://localhost:8080/"
        },
        "id": "CR78UNeL7d5R",
        "outputId": "4b557cd3-05b7-420c-a2db-bf64a53a10ce"
      },
      "outputs": [
        {
          "name": "stdout",
          "output_type": "stream",
          "text": [
            "time : 6.360054016113281 ms\n"
          ]
        }
      ],
      "source": [
        "start = time.time()\n",
        "\n",
        "#Filter using query\n",
        "passengers_by_ticket_query = titanic_data.query('PassengerId == @passenger_id')\n",
        "\n",
        "# Duration time\n",
        "print(f\"time : {(time.time() - start) * 1000} ms\")"
      ]
    },
    {
      "cell_type": "markdown",
      "metadata": {
        "id": "wCtqHSui7MDy"
      },
      "source": [
        "\n",
        "### 3. eval()\n",
        "The eval() function in Pandas uses string expressions to efficiently compute operations using DataFrame."
      ]
    },
    {
      "cell_type": "code",
      "execution_count": 44,
      "metadata": {
        "colab": {
          "base_uri": "https://localhost:8080/"
        },
        "id": "28RbGBUj8dpB",
        "outputId": "31e93f0d-6548-490f-9f15-8c81c9f065d8"
      },
      "outputs": [
        {
          "name": "stdout",
          "output_type": "stream",
          "text": [
            "time : 4.781246185302734 ms\n"
          ]
        }
      ],
      "source": [
        "start = time.time()\n",
        "\n",
        "#Filter using eval\n",
        "passengers_by_ticket_eval = titanic_data[titanic_data.eval('PassengerId == @passenger_id')]\n",
        "\n",
        "# Duration time\n",
        "print(f\"time : {(time.time() - start) * 1000} ms\")"
      ]
    },
    {
      "cell_type": "markdown",
      "metadata": {
        "id": "pX8efBeL_bOk"
      },
      "source": [
        "#### ⭐ Evaluation\n",
        "\n",
        "✅ The traditional method `[]` is faster for **smaller arrays**.\n",
        "\n",
        "✅ The benefit of `eval` and `query` is mainly in the saved memory, and the sometimes cleaner syntax they offer.\n",
        "\n",
        "✅ The advantages of `eval` and `query` lies in humongous dataset.\n",
        "\n",
        "✅ It is recommended to use `eval` or `query` when you work with a **lot of data**.\n",
        "\n",
        "👀\n",
        "Optimizing the `eval()`, `query()`, `[]` filter operations would not necessarily guarantee performance improvement because it's a multivariate equation.\n"
      ]
    },
    {
      "cell_type": "markdown",
      "metadata": {
        "id": "cZ5Beso5Mw60"
      },
      "source": [
        "## 🔍 **Recommendatios for Faster Lookup**\n",
        "Here, there are some strategies and properties useful to lookup."
      ]
    },
    {
      "cell_type": "code",
      "execution_count": 45,
      "metadata": {
        "id": "TWlkTImAX_oN"
      },
      "outputs": [],
      "source": [
        "# Variables\n",
        "position = 3\n",
        "column = \"Ticket\""
      ]
    },
    {
      "cell_type": "markdown",
      "metadata": {
        "id": "c5UZuxRaMBbq"
      },
      "source": [
        "### Index Optimization\n",
        "Pandas has optimized operations based on `indices` whereby It is recommended to use an index in dataframes to allow for faster lookup.\n",
        "\n",
        "Set the DataFrame index (row labels) using one or more existing columns or arrays (of the correct length). The index can replace the existing index or expand on it.\n",
        "\n"
      ]
    },
    {
      "cell_type": "code",
      "execution_count": 8,
      "metadata": {
        "colab": {
          "base_uri": "https://localhost:8080/"
        },
        "id": "F5E6Mh2eNj-p",
        "outputId": "eb6cf8a8-3d97-4349-fb3d-21981f58cedb"
      },
      "outputs": [
        {
          "name": "stdout",
          "output_type": "stream",
          "text": [
            "time : 4.584312438964844 ms\n"
          ]
        }
      ],
      "source": [
        "# 1. We identify PassengerId as a candidate variables to use as index\n",
        "titanic_data_indexed = titanic_data.set_index(\"PassengerId\", drop=False, inplace=False)\n",
        "\n",
        "start = time.time()\n",
        "\n",
        "#2. Filtering a dataframe using PassengerId column\n",
        "passengers_by_ticket_eval = titanic_data_indexed[titanic_data_indexed.eval('PassengerId == @passenger_id')]\n",
        "\n",
        "#3. Duration time\n",
        "print(f\"time : {(time.time() - start) * 1000} ms\")\n"
      ]
    },
    {
      "cell_type": "markdown",
      "metadata": {
        "id": "3rgSSAnCOn62"
      },
      "source": [
        "### Lookup a Single Value\n",
        "\n",
        "When we need to retrieve a single value from a dataframe it's recommended to use `.at[]` because is faster than using `.loc[]`.\n",
        "\n"
      ]
    },
    {
      "cell_type": "markdown",
      "metadata": {
        "id": "MuVarigPPSer"
      },
      "source": [
        "#### .loc\n",
        "The .loc property of the DataFrame object allows the return of specified rows and/or columns from that DataFrame.\n",
        "\n",
        "*df.loc[rows,columns]*\n",
        "\n",
        "Note: .loc is not a method, it is a `property indexed` via square brackets."
      ]
    },
    {
      "cell_type": "code",
      "execution_count": 36,
      "metadata": {
        "colab": {
          "base_uri": "https://localhost:8080/"
        },
        "id": "-c7E8qATPOx6",
        "outputId": "6a49b812-709f-4f3f-df09-8efe84e400c6"
      },
      "outputs": [
        {
          "name": "stdout",
          "output_type": "stream",
          "text": [
            "time : 0.2779960632324219 ms\n"
          ]
        }
      ],
      "source": [
        "start = time.time()\n",
        "passenger = titanic_data.loc[position, column]\n",
        "print(f\"time : {(time.time() - start) * 1000} ms\")"
      ]
    },
    {
      "cell_type": "markdown",
      "metadata": {
        "id": "w8AB8mOaRIrt"
      },
      "source": [
        "#### .at\n",
        "Access a single value for a row/column label pair.\n",
        "\n",
        "This method works in a similar way to Pandas `.loc[]` but `.at[]` is used to return an only single value that's because is faster."
      ]
    },
    {
      "cell_type": "code",
      "execution_count": 37,
      "metadata": {
        "colab": {
          "base_uri": "https://localhost:8080/"
        },
        "id": "gvH0zHo0RM07",
        "outputId": "f792ac15-366a-4e3d-d1c2-2866b2b6f671"
      },
      "outputs": [
        {
          "name": "stdout",
          "output_type": "stream",
          "text": [
            "time : 0.2944469451904297 ms\n"
          ]
        }
      ],
      "source": [
        "start = time.time()\n",
        "passenger = titanic_data.at[position, column]\n",
        "print(f\"time : {(time.time() - start) * 1000} ms\")"
      ]
    },
    {
      "cell_type": "markdown",
      "metadata": {
        "id": "IgBwPCtfZo5Q"
      },
      "source": [
        "### Vectorize Operations\n",
        "\n",
        "Vectorization is the process of executing operations on entire arrays. Similarly to NumPy.\n",
        "\n",
        "It is recommended to avoid **`for`** loops when working with dataframes, because read and write operations are expensive. **When looping is unavoidable, use native NumPy, or .map() for simple operations.**\n"
      ]
    },
    {
      "cell_type": "markdown",
      "metadata": {
        "id": "F6nMCLz8beF5"
      },
      "source": [
        "###Verify Memory Usage\n",
        "\n",
        "Every time when you work with a dataframe verify the memory usage, to achieve this you can use the functions: `info()` or `memory_usage()`."
      ]
    },
    {
      "cell_type": "markdown",
      "metadata": {
        "id": "CaULteBro56l"
      },
      "source": [
        "#### **.info()**\n",
        "Show a concise summary of a DataFrame."
      ]
    },
    {
      "cell_type": "code",
      "execution_count": 11,
      "metadata": {
        "colab": {
          "base_uri": "https://localhost:8080/"
        },
        "id": "vBRXvvVwpC1Z",
        "outputId": "52adb11c-dbf2-48da-cf2c-4167a7fe7119"
      },
      "outputs": [
        {
          "name": "stdout",
          "output_type": "stream",
          "text": [
            "<class 'pandas.core.frame.DataFrame'>\n",
            "RangeIndex: 418 entries, 0 to 417\n",
            "Data columns (total 11 columns):\n",
            " #   Column       Non-Null Count  Dtype  \n",
            "---  ------       --------------  -----  \n",
            " 0   PassengerId  418 non-null    int64  \n",
            " 1   Pclass       418 non-null    int64  \n",
            " 2   Name         418 non-null    object \n",
            " 3   Sex          418 non-null    object \n",
            " 4   Age          332 non-null    float64\n",
            " 5   SibSp        418 non-null    int64  \n",
            " 6   Parch        418 non-null    int64  \n",
            " 7   Ticket       418 non-null    object \n",
            " 8   Fare         417 non-null    float64\n",
            " 9   Cabin        91 non-null     object \n",
            " 10  Embarked     418 non-null    object \n",
            "dtypes: float64(2), int64(4), object(5)\n",
            "memory usage: 36.0+ KB\n"
          ]
        }
      ],
      "source": [
        "titanic_data.info(verbose=True)"
      ]
    },
    {
      "cell_type": "markdown",
      "metadata": {
        "id": "XnKtRsoXpcdL"
      },
      "source": [
        "#### **.memory_usage()**\n",
        "\n",
        "This function return the memory usage of each column in bytes."
      ]
    },
    {
      "cell_type": "code",
      "execution_count": 12,
      "metadata": {
        "colab": {
          "base_uri": "https://localhost:8080/"
        },
        "id": "wqC6wLI3phzO",
        "outputId": "198e3323-3939-4f41-9e80-1b28daf80b31"
      },
      "outputs": [
        {
          "data": {
            "text/plain": [
              "PassengerId     3344\n",
              "Pclass          3344\n",
              "Name           35314\n",
              "Sex            25802\n",
              "Age             3344\n",
              "SibSp           3344\n",
              "Parch           3344\n",
              "Ticket         26700\n",
              "Fare            3344\n",
              "Cabin          16022\n",
              "Embarked       24244\n",
              "dtype: int64"
            ]
          },
          "execution_count": 12,
          "metadata": {},
          "output_type": "execute_result"
        }
      ],
      "source": [
        "titanic_data.memory_usage(index=False, deep=True)"
      ]
    },
    {
      "cell_type": "markdown",
      "metadata": {
        "id": "VisPt70ppt0_"
      },
      "source": [
        "### Memory Optimization\n",
        "\n",
        "When the dataset is read using Pandas read function like `read_csv` or `read_excel`, Pandas decides the data type and loads it into RAM. Normally for `integer` values Pandas assign `int64`, `float` values are assigned `float64`, and `string` values are assigned as `objects`, The problem here is that using an `int64` takes up more memory compared to `int8` **(8 times more)**.\n",
        "\n",
        "The idea is to **downgrade** the datatype **reviewing el max and min value of a column** and choose which is the correct data type for a specific column\n",
        "\n",
        "[Visit Data types in Python](https://jakevdp.github.io/PythonDataScienceHandbook/02.01-understanding-data-types.html)"
      ]
    },
    {
      "cell_type": "markdown",
      "metadata": {
        "id": "IdIvQ5uAqGgA"
      },
      "source": [
        "#### Optimizing Memory step by step"
      ]
    },
    {
      "cell_type": "code",
      "execution_count": 25,
      "metadata": {
        "colab": {
          "base_uri": "https://localhost:8080/"
        },
        "id": "OcuTzGOtqRia",
        "outputId": "6f89e069-637f-4cc4-a60c-b34ffedf6c5f"
      },
      "outputs": [
        {
          "name": "stdout",
          "output_type": "stream",
          "text": [
            "<class 'pandas.core.frame.DataFrame'>\n",
            "RangeIndex: 418 entries, 0 to 417\n",
            "Data columns (total 11 columns):\n",
            " #   Column       Non-Null Count  Dtype  \n",
            "---  ------       --------------  -----  \n",
            " 0   PassengerId  418 non-null    int64  \n",
            " 1   Pclass       418 non-null    int64  \n",
            " 2   Name         418 non-null    object \n",
            " 3   Sex          418 non-null    object \n",
            " 4   Age          332 non-null    float64\n",
            " 5   SibSp        418 non-null    int64  \n",
            " 6   Parch        418 non-null    int64  \n",
            " 7   Ticket       418 non-null    object \n",
            " 8   Fare         417 non-null    float64\n",
            " 9   Cabin        91 non-null     object \n",
            " 10  Embarked     418 non-null    object \n",
            "dtypes: float64(2), int64(4), object(5)\n",
            "memory usage: 36.0+ KB\n"
          ]
        }
      ],
      "source": [
        "# 1. Get info about the dataframe:\n",
        "titanic_data.info()"
      ]
    },
    {
      "cell_type": "code",
      "execution_count": 26,
      "metadata": {
        "colab": {
          "base_uri": "https://localhost:8080/"
        },
        "id": "-Uit377dqzrJ",
        "outputId": "16dc0e91-21b8-4f9e-ac80-484203905ac7"
      },
      "outputs": [
        {
          "data": {
            "text/plain": [
              "PassengerId     3344\n",
              "Pclass          3344\n",
              "Name           35314\n",
              "Sex            25802\n",
              "Age             3344\n",
              "SibSp           3344\n",
              "Parch           3344\n",
              "Ticket         26700\n",
              "Fare            3344\n",
              "Cabin          16022\n",
              "Embarked       24244\n",
              "dtype: int64"
            ]
          },
          "execution_count": 26,
          "metadata": {},
          "output_type": "execute_result"
        }
      ],
      "source": [
        "# 2. Show memory usage for the PassengerId column: 3344 bytes\n",
        "titanic_data.memory_usage(index=False, deep=True)"
      ]
    },
    {
      "cell_type": "code",
      "execution_count": 27,
      "metadata": {
        "colab": {
          "base_uri": "https://localhost:8080/"
        },
        "id": "8J9pyDXPq9NQ",
        "outputId": "e2be3dcc-8b7e-4e3b-c051-7429e0a83c53"
      },
      "outputs": [
        {
          "name": "stdout",
          "output_type": "stream",
          "text": [
            "Min Value: 892 - Max Value: 1309\n"
          ]
        }
      ],
      "source": [
        "#3. Get the Max and Min value for PassengerId column and decide the best datatype:\n",
        "min_value = titanic_data[\"PassengerId\"].min()\n",
        "max_value = titanic_data[\"PassengerId\"].max()\n",
        "print(f\"Min Value: {min_value} - Max Value: {max_value}\")\n"
      ]
    },
    {
      "cell_type": "markdown",
      "metadata": {
        "id": "LKHzCDn8rvHY"
      },
      "source": [
        "##### **Analysis**\n",
        "- ▶ The `PassengerId` column has values between 892 to 1309.\n",
        "\n",
        "- ▶ This range does not contain negative numbers.\n",
        "\n",
        "- ▶ Pandas assigned `int64` to this column, but the range of `int64` is `Integer (-9223372036854775808 to 9223372036854775807)`:\n",
        "  - 🔴 It's a wide range.\n",
        "\n",
        "  - 🔴 Allows negative numbers.\n",
        "\n",
        "  - 🟢 We can review the range of the different data types in the above table and choose the best range.\n",
        "\n",
        "  - 🟢 So, we finally decide to use uint16, but why is it the best option?\n",
        "    - ✔  range of uint16 is: Unsigned integer (0 to 65535)\n",
        "\n",
        "    - ✔ The range is enough to contain the values for the `PassengerId` Column.\n",
        "\n",
        "    - ✔ We only need a positive number"
      ]
    },
    {
      "cell_type": "code",
      "execution_count": 29,
      "metadata": {
        "id": "IT4r9MJ-s80q"
      },
      "outputs": [],
      "source": [
        "#4 . Set PassengerId column to uint16 datatype:\n",
        "titanic_data[\"PassengerId\"] = titanic_data[\"PassengerId\"].astype(\"uint16\")\n"
      ]
    },
    {
      "cell_type": "code",
      "execution_count": 30,
      "metadata": {
        "colab": {
          "base_uri": "https://localhost:8080/"
        },
        "id": "5WniTJY1tMz7",
        "outputId": "f5710460-b54c-4772-d8f2-2de219f83a3f"
      },
      "outputs": [
        {
          "data": {
            "text/plain": [
              "PassengerId      836\n",
              "Pclass          3344\n",
              "Name           35314\n",
              "Sex            25802\n",
              "Age             3344\n",
              "SibSp           3344\n",
              "Parch           3344\n",
              "Ticket         26700\n",
              "Fare            3344\n",
              "Cabin          16022\n",
              "Embarked       24244\n",
              "dtype: int64"
            ]
          },
          "execution_count": 30,
          "metadata": {},
          "output_type": "execute_result"
        }
      ],
      "source": [
        "# 5. Show memory usage for the PassengerId column again:\n",
        "titanic_data.memory_usage(index=False, deep=True)\n",
        "# PassengerId has reduced from to 3344 bytes 836 bytes"
      ]
    },
    {
      "cell_type": "code",
      "execution_count": 38,
      "metadata": {
        "colab": {
          "base_uri": "https://localhost:8080/"
        },
        "id": "5DC84p_atjtv",
        "outputId": "a9fe7af7-c090-410a-bccd-d27e6f79cf24"
      },
      "outputs": [
        {
          "name": "stdout",
          "output_type": "stream",
          "text": [
            "<class 'pandas.core.frame.DataFrame'>\n",
            "RangeIndex: 418 entries, 0 to 417\n",
            "Data columns (total 11 columns):\n",
            " #   Column       Non-Null Count  Dtype  \n",
            "---  ------       --------------  -----  \n",
            " 0   PassengerId  418 non-null    uint16 \n",
            " 1   Pclass       418 non-null    int64  \n",
            " 2   Name         418 non-null    object \n",
            " 3   Sex          418 non-null    object \n",
            " 4   Age          332 non-null    float64\n",
            " 5   SibSp        418 non-null    int64  \n",
            " 6   Parch        418 non-null    int64  \n",
            " 7   Ticket       418 non-null    object \n",
            " 8   Fare         417 non-null    float64\n",
            " 9   Cabin        91 non-null     object \n",
            " 10  Embarked     418 non-null    object \n",
            "dtypes: float64(2), int64(3), object(5), uint16(1)\n",
            "memory usage: 33.6+ KB\n"
          ]
        }
      ],
      "source": [
        "# 6. Get info again:\n",
        "titanic_data.info()"
      ]
    },
    {
      "cell_type": "markdown",
      "metadata": {
        "id": "lEo6r90RwMtv"
      },
      "source": [
        "#### The memory has been reduced from 36.0+ KB to 33.6+ KB"
      ]
    },
    {
      "cell_type": "markdown",
      "metadata": {
        "id": "9O5aWrLIuC_C"
      },
      "source": [
        "## 🔖 Summary\n",
        "\n",
        "✅ Filter steps should be executed as early as possible.\n",
        "\n",
        "✅ Filter for a single value, `.at` is a good choice.\n",
        "\n",
        "✅ The method `[]` is faster for **smaller arrays**.\n",
        "\n",
        "✅ Verify the memory usage with `memory_usage` method\n",
        "\n",
        "✅ Downgrade the datatype reviewing el `max` and `min` value of a column and choose which is the correct data type for a specific column.\n",
        "\n",
        "✅ Using an `index` in dataframes to allow for faster lookup.\n",
        "\n",
        "❌  Try to avoid for loops, but if you can't avoid them, use `.map()`."
      ]
    }
  ],
  "metadata": {
    "colab": {
      "collapsed_sections": [
        "-cBEmdgK2SYC",
        "yUA8qwkyKpq7",
        "cZ5Beso5Mw60",
        "c5UZuxRaMBbq",
        "3rgSSAnCOn62",
        "F6nMCLz8beF5"
      ],
      "provenance": []
    },
    "kernelspec": {
      "display_name": "Python 3",
      "name": "python3"
    },
    "language_info": {
      "name": "python"
    }
  },
  "nbformat": 4,
  "nbformat_minor": 0
}
